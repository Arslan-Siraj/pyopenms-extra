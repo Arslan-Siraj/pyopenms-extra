{
 "cells": [
  {
   "cell_type": "markdown",
   "id": "96f18d69",
   "metadata": {},
   "source": [
    "$$\n",
    "\\def\\CC{\\bf C}\n",
    "\\def\\QQ{\\bf Q}\n",
    "\\def\\RR{\\bf R}\n",
    "\\def\\ZZ{\\bf Z}\n",
    "\\def\\NN{\\bf N}\n",
    "$$\n",
    "# Getting Started\n",
    "\n",
    "## Import pyopenms\n",
    "\n",
    "After installation, you should be able to import pyopenms as a package"
   ]
  },
  {
   "cell_type": "code",
   "execution_count": null,
   "id": "c459564f",
   "metadata": {},
   "outputs": [],
   "source": [
    "import pyopenms"
   ]
  },
  {
   "cell_type": "markdown",
   "id": "643407ec",
   "metadata": {},
   "source": [
    "which should now give you access to all of pyopenms. You should now be\n",
    "able to interact with the OpenMS library and, for example, read and\n",
    "write mzML files:"
   ]
  },
  {
   "cell_type": "code",
   "execution_count": null,
   "id": "dd841d30",
   "metadata": {},
   "outputs": [],
   "source": [
    "from pyopenms import *\n",
    "exp = MSExperiment()\n",
    "MzMLFile().store(\"testfile.mzML\", exp)"
   ]
  },
  {
   "cell_type": "markdown",
   "id": "6c89589b",
   "metadata": {},
   "source": [
    "which will create an empty mzML file called $testfile.mzML$.\n",
    "\n",
    "## Getting help\n",
    "\n",
    "There are multiple ways to get information about the available functions\n",
    "and methods. We can inspect individual pyOpenMS objects through the\n",
    "`help` function:"
   ]
  },
  {
   "cell_type": "code",
   "execution_count": null,
   "id": "1ccb3b49",
   "metadata": {},
   "outputs": [],
   "source": [
    "from pyopenms import *\n",
    "help(MSExperiment)"
   ]
  },
  {
   "cell_type": "code",
   "execution_count": null,
   "id": "1559edc0",
   "metadata": {},
   "outputs": [],
   "source": [
    "class MSExperiment(builtins.object)\n",
    " |  Cython implementation of _MSExperiment\n",
    " |   -- Inherits from ['ExperimentalSettings', 'RangeManager2']\n",
    " |  \n",
    " |  In-Memory representation of a mass spectrometry experiment.\n",
    " |  -----\n",
    " |  Contains the data and metadata of an experiment performed with an MS (or\n",
    " |  HPLC and MS). This representation of an MS experiment is organized as list\n",
    " |  of spectra and chromatograms and provides an in-memory representation of\n",
    " |  popular mass-spectrometric file formats such as mzXML or mzML. The\n",
    " |  meta-data associated with an experiment is contained in\n",
    " |  ExperimentalSettings (by inheritance) while the raw data (as well as\n",
    " |  spectra and chromatogram level meta data) is stored in objects of type\n",
    " |  MSSpectrum and MSChromatogram, which are accessible through the getSpectrum\n",
    " |  and getChromatogram functions.\n",
    " |  -----\n",
    " |  Spectra can be accessed by direct iteration or by getSpectrum(),\n",
    " |  while chromatograms are accessed through getChromatogram().\n",
    " |  See help(ExperimentalSettings) for information about meta-data.\n",
    " |  \n",
    " |  Methods defined here:\n",
    "\n",
    " [...]"
   ]
  },
  {
   "cell_type": "markdown",
   "id": "ad27c5fe",
   "metadata": {},
   "source": [
    "which lists information on the `pyopenms.MSExperiment` class, including\n",
    "a description of the main purpose of the class and how the class is\n",
    "intended to be used. Additional useful information is presented in the\n",
    "`Inherits from` section which points to additional classes that act as\n",
    "base classes to `pyopenms.MSExperiment` and that contain further\n",
    "information. The list of available methods is long (but does *not*\n",
    "include methods from the base classes) and reveals that the class\n",
    "exposes methods such as `getNrSpectra()` and `getSpectrum(id)` where the\n",
    "argument `id` indicates the spectrum identifer. The command also lists\n",
    "the signature for each function, allowing users to identify the function\n",
    "arguments and return types. We can gain further information about\n",
    "exposed methods by investigating the documentation of the base classes:"
   ]
  },
  {
   "cell_type": "code",
   "execution_count": null,
   "id": "a2918d4f",
   "metadata": {},
   "outputs": [
    {
     "data": {
      "text/plain": [
       "Help on class ExperimentalSettings in module pyopenms.pyopenms_4:\n",
       "\n",
       "class ExperimentalSettings(builtins.object)\n",
       " |  Cython implementation of _ExperimentalSettings\n",
       " |   -- Inherits from ['DocumentIdentifier', 'MetaInfoInterface']\n",
       " |  \n",
       " |  Description of the experimental settings, provides meta-information\n",
       " |  about an LC-MS/MS injection.\n",
       " |  \n",
       " |  Methods defined here:\n",
       "\n",
       " [...]"
      ]
     },
     "execution_count": 1,
     "metadata": {},
     "output_type": "execute_result"
    }
   ],
   "source": [
    "from pyopenms import *\n",
    "help(ExperimentalSettings)"
   ]
  },
  {
   "cell_type": "markdown",
   "id": "5b634b60",
   "metadata": {},
   "source": [
    "We could now continue our investigation by reading the documentation of\n",
    "the base classes `DocumentIdentifier` and `MetaInfoInterface`, but we\n",
    "will leave this exercise for the interested reader. In order to get more\n",
    "information about the wrapped functions, we can also consult the\n",
    "[pyOpenMS manual](http://proteomics.ethz.ch/pyOpenMS_Manual.pdf) which\n",
    "references to all wrapped functions. For a more complete documentation\n",
    "of the underlying wrapped methods, please consult the official OpenMS\n",
    "documentation, in this case the [MSExperiment\n",
    "documentation](https://abibuilder.informatik.uni-tuebingen.de/archive/openms/Documentation/release/latest/html/classOpenMS_1_1MSExperiment.html).\n",
    "\n",
    "## First look at data\n",
    "\n",
    "### File reading\n",
    "\n",
    "pyOpenMS supports a variety of different files through the\n",
    "implementations in OpenMS. In order to read mass spectrometric data, we\n",
    "can download the [mzML example\n",
    "file](http://proteowizard.sourceforge.net/example_data/tiny.pwiz.1.1.mzML)"
   ]
  },
  {
   "cell_type": "code",
   "execution_count": null,
   "id": "23f16e6f",
   "metadata": {},
   "outputs": [],
   "source": [
    "from urllib.request import urlretrieve\n",
    "# from urllib import urlretrieve  # use this code for Python 2.x\n",
    "from pyopenms import *\n",
    "urlretrieve (\"http://proteowizard.sourceforge.net/example_data/tiny.pwiz.1.1.mzML\", \"tiny.pwiz.1.1.mzML\")\n",
    "exp = MSExperiment()\n",
    "MzMLFile().load(\"tiny.pwiz.1.1.mzML\", exp)"
   ]
  },
  {
   "cell_type": "markdown",
   "id": "16dfe39b",
   "metadata": {},
   "source": [
    "which will load the content of the \"tiny.pwiz.1.1.mzML\" file into the\n",
    "`exp` variable of type `MSExperiment`. We can now inspect the properties\n",
    "of this object:"
   ]
  },
  {
   "cell_type": "code",
   "execution_count": null,
   "id": "bd8cb94b",
   "metadata": {},
   "outputs": [],
   "source": [
    "help(exp)"
   ]
  },
  {
   "cell_type": "code",
   "execution_count": null,
   "id": "e16ed9ea",
   "metadata": {},
   "outputs": [],
   "source": [
    "class MSExperiment(builtins.object)\n",
    " |  Cython implementation of _MSExperiment\n",
    " |   -- Inherits from ['ExperimentalSettings', 'RangeManager2']\n",
    "\n",
    "\n",
    " [...]\n",
    "\n",
    " |  Methods defined here:\n",
    "\n",
    " [...]\n",
    "\n",
    " |  getNrChromatograms(...)\n",
    " |      Cython signature: size_t getNrChromatograms()\n",
    " |\n",
    " |  getNrSpectra(...)\n",
    " |      Cython signature: size_t getNrSpectra()\n",
    " |\n",
    "\n",
    " [...]"
   ]
  },
  {
   "cell_type": "markdown",
   "id": "d8755d8d",
   "metadata": {},
   "source": [
    "which indicates that the variable `exp` has (among others) the functions\n",
    "`getNrSpectra` and `getNrChromatograms`. We can now try these functions:"
   ]
  },
  {
   "cell_type": "code",
   "execution_count": null,
   "id": "d0eaa75c",
   "metadata": {},
   "outputs": [
    {
     "data": {
      "text/plain": [
       "4"
      ]
     },
     "execution_count": 1,
     "metadata": {},
     "output_type": "execute_result"
    }
   ],
   "source": [
    "exp.getNrSpectra()"
   ]
  },
  {
   "cell_type": "code",
   "execution_count": null,
   "id": "90658716",
   "metadata": {},
   "outputs": [
    {
     "data": {
      "text/plain": [
       "2"
      ]
     },
     "execution_count": 1,
     "metadata": {},
     "output_type": "execute_result"
    }
   ],
   "source": [
    "exp.getNrChromatograms()"
   ]
  },
  {
   "cell_type": "markdown",
   "id": "417f370b",
   "metadata": {},
   "source": [
    "and indeed we see that we get information about the underlying MS data.\n",
    "We can iterate through the spectra as follows:\n",
    "\n",
    "### Iteration"
   ]
  },
  {
   "cell_type": "code",
   "execution_count": null,
   "id": "8e167f42",
   "metadata": {},
   "outputs": [],
   "source": [
    "for spec in exp:\n",
    "  print (\"MS Level:\", spec.getMSLevel())\n",
    "\n",
    "MS Level: 1\n",
    "MS Level: 2\n",
    "MS Level: 1\n",
    "MS Level: 1"
   ]
  },
  {
   "cell_type": "markdown",
   "id": "46157202",
   "metadata": {},
   "source": [
    "This iterates through all available spectra, we can also access spectra\n",
    "through the `[]` operator:"
   ]
  },
  {
   "cell_type": "code",
   "execution_count": null,
   "id": "1d4d40d9",
   "metadata": {},
   "outputs": [
    {
     "data": {
      "text/plain": [
       "MS Level: 2"
      ]
     },
     "execution_count": 1,
     "metadata": {},
     "output_type": "execute_result"
    }
   ],
   "source": [
    "print (\"MS Level:\", exp[1].getMSLevel())"
   ]
  },
  {
   "cell_type": "markdown",
   "id": "f4bcc547",
   "metadata": {},
   "source": [
    "Note that `spec[1]` will access the *second* spectrum (arrays start at\n",
    "`0`). We can access the raw peaks through `get_peaks()` :"
   ]
  },
  {
   "cell_type": "code",
   "execution_count": null,
   "id": "c1f81093",
   "metadata": {},
   "outputs": [
    {
     "data": {
      "text/plain": [
       "110"
      ]
     },
     "execution_count": 1,
     "metadata": {},
     "output_type": "execute_result"
    }
   ],
   "source": [
    "spec = exp[1]\n",
    "mz, intensity = spec.get_peaks()\n",
    "sum(intensity)"
   ]
  },
  {
   "cell_type": "markdown",
   "id": "f454c795",
   "metadata": {},
   "source": [
    "Which will access the data using a numpy array, storing the *m/z*\n",
    "information in the `mz` vector and the intensity in the `i` vector.\n",
    "Alternatively, we can also iterate over individual peak objects as\n",
    "follows (this tends to be slower):"
   ]
  },
  {
   "cell_type": "code",
   "execution_count": null,
   "id": "96278c10",
   "metadata": {},
   "outputs": [
    {
     "data": {
      "text/plain": [
       "20.0\n",
       "18.0\n",
       "16.0\n",
       "14.0\n",
       "12.0\n",
       "10.0\n",
       "8.0\n",
       "6.0\n",
       "4.0\n",
       "2.0"
      ]
     },
     "execution_count": 1,
     "metadata": {},
     "output_type": "execute_result"
    }
   ],
   "source": [
    "for peak in spec:\n",
    "  print (peak.getIntensity())"
   ]
  },
  {
   "cell_type": "markdown",
   "id": "bbb4745e",
   "metadata": {},
   "source": [
    "### TIC calculation\n",
    "\n",
    "Here, we will apply what we have learned to perform a common function in\n",
    "mass spectrometry: calculating the total ion current. While some mzML\n",
    "files already contain a pre-computed TIC, we will show you how to\n",
    "calculate the TIC for MS1 and MS2 spectra separately (generally only MS1\n",
    "TIC is provided).\n",
    "\n",
    "With this information, we can write a function that calculates the total\n",
    "ion current (TIC) for a given ms level:"
   ]
  },
  {
   "cell_type": "code",
   "execution_count": null,
   "id": "8e748acf",
   "metadata": {},
   "outputs": [],
   "source": [
    "# Calculates total ion chromatogram of an LC-MS/MS experiment\n",
    "def calcTIC(exp, mslevel):\n",
    "    tic = 0\n",
    "    # Iterate through all spectra of the experiment\n",
    "    for spec in exp:\n",
    "        # Only calculate TIC for matching (MS1) spectra\n",
    "        if spec.getMSLevel() == mslevel:\n",
    "            mz, i = spec.get_peaks()\n",
    "            tic += sum(i)\n",
    "    return tic"
   ]
  },
  {
   "cell_type": "markdown",
   "id": "0850aa75",
   "metadata": {},
   "source": [
    "To calculate a TIC we would now call the function:"
   ]
  },
  {
   "cell_type": "code",
   "execution_count": null,
   "id": "add267be",
   "metadata": {},
   "outputs": [
    {
     "data": {
      "text/plain": [
       "240.0"
      ]
     },
     "execution_count": 1,
     "metadata": {},
     "output_type": "execute_result"
    }
   ],
   "source": [
    "calcTIC(exp, 1)"
   ]
  },
  {
   "cell_type": "code",
   "execution_count": null,
   "id": "fbc9ac09",
   "metadata": {},
   "outputs": [
    {
     "data": {
      "text/plain": [
       "240.0"
      ]
     },
     "execution_count": 1,
     "metadata": {},
     "output_type": "execute_result"
    }
   ],
   "source": [
    "sum([sum(s.get_peaks()[1]) for s in exp if s.getMSLevel() == 1])"
   ]
  },
  {
   "cell_type": "code",
   "execution_count": null,
   "id": "41128da9",
   "metadata": {},
   "outputs": [
    {
     "data": {
      "text/plain": [
       "110.0"
      ]
     },
     "execution_count": 1,
     "metadata": {},
     "output_type": "execute_result"
    }
   ],
   "source": [
    "calcTIC(exp, 2)"
   ]
  },
  {
   "cell_type": "markdown",
   "id": "85f3dddc",
   "metadata": {},
   "source": [
    "Note how one can compute the same property using list comprehensions in\n",
    "Python (see line number 3 in the above code which computes the TIC using\n",
    "filtering properties of Python list comprehensions\n",
    "(`s.getMSLevel() == 1`) and computes the sum over all peaks (right\n",
    "`sum`) and the sum over all spectra (left `sum`) to retrieve the TIC).\n",
    "\n",
    "One can access the retention times and intensities of the TIC in\n",
    "different ways and generate a 2D graph using `matplotlib` :"
   ]
  },
  {
   "cell_type": "code",
   "execution_count": null,
   "id": "4e0e8b71",
   "metadata": {},
   "outputs": [],
   "source": [
    "from pyopenms import *\n",
    "import matplotlib.pyplot as plt\n",
    "from urllib.request import urlretrieve\n",
    "\n",
    "# retrieve MS data\n",
    "gh = 'https://raw.githubusercontent.com/OpenMS/OpenMS/develop'\n",
    "urlretrieve (gh+'/src/tests/topp/FeatureFinderMetaboIdent_1_input.mzML',\n",
    "            'ms_data.mzML')\n",
    "\n",
    "# load MS data into MSExperiment()\n",
    "exp = MSExperiment()\n",
    "MzMLFile().load(\"ms_data.mzML\", exp)\n",
    "\n",
    "# choose one of the following three methods to access the TIC data\n",
    "# 1) get TIC data with exp.getTIC() function\n",
    "tic = exp.getTIC()\n",
    "retention_times, intensities = tic.get_peaks()\n",
    "\n",
    "# 2) get TIC data using list comprehensions\n",
    "retention_times = [spec.getRT() for spec in exp]\n",
    "intensities = [sum(spec.get_peaks()[1]) for spec in exp if spec.getMSLevel() == 1]\n",
    "\n",
    "# 3) get TIC data looping over spectra in MSExperiment()\n",
    "retention_times = []\n",
    "intensities = []\n",
    "for spec in exp:\n",
    "    if spec.getMSLevel() == 1:\n",
    "        retention_times.append(spec.getRT())\n",
    "        intensities.append(sum(spec.get_peaks()[1]))\n",
    "\n",
    "# plot retention times and intensities and add labels\n",
    "plt.plot(retention_times, intensities)\n",
    "\n",
    "plt.title('TIC')\n",
    "plt.xlabel('time (s)')\n",
    "plt.ylabel('intensity (cps)')\n",
    "\n",
    "plt.show()"
   ]
  },
  {
   "cell_type": "markdown",
   "id": "9c8a309d",
   "metadata": {},
   "source": [
    "![image](img/TICPlot.png)\n",
    "\n",
    "[![Launch Binder](./img/launch_binder.jpg)](https://mybinder.org/v2/gh/OpenMS/pyopenms-extra/master+ipynb?urlpath=lab/tree/docs/source/getting_started.ipynb)"
   ]
  }
 ],
 "metadata": {},
 "nbformat": 4,
 "nbformat_minor": 5
}
